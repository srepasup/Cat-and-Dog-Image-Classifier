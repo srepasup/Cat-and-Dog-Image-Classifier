{
  "cells": [
    {
      "cell_type": "code",
      "execution_count": null,
      "metadata": {
        "id": "Y1onB6kUvo4Z"
      },
      "outputs": [],
      "source": [
        "# import libraries (you may add additional imports but you may not have to)\n",
        "import numpy as np\n",
        "import pandas as pd\n",
        "from scipy.sparse import csr_matrix\n",
        "from sklearn.neighbors import NearestNeighbors\n",
        "import matplotlib.pyplot as plt"
      ]
    },
    {
      "cell_type": "code",
      "execution_count": null,
      "metadata": {
        "id": "iAQGqqO_vo4d"
      },
      "outputs": [],
      "source": [
        "# get data files\n",
        "!wget https://cdn.freecodecamp.org/project-data/books/book-crossings.zip\n",
        "\n",
        "!unzip book-crossings.zip\n",
        "\n",
        "# Load and clean dataset\n",
        "books = pd.read_csv(\"books.csv\")\n",
        "ratings = pd.read_csv(\"ratings.csv\")"
      ]
    },
    {
      "cell_type": "code",
      "execution_count": null,
      "metadata": {
        "id": "xAcXjkCFCh0A"
      },
      "outputs": [],
      "source": [
        "# Remove users and books below the threshold\n",
        "user_counts = ratings[\"user_id\"].value_counts()\n",
        "book_counts = ratings[\"isbn\"].value_counts()\n",
        "\n",
        "filtered_users = user_counts[user_counts >= 200].index\n",
        "filtered_books = book_counts[book_counts >= 100].index\n",
        "\n",
        "filtered_ratings = ratings[ratings[\"user_id\"].isin(filtered_users) & ratings[\"isbn\"].isin(filtered_books)]"
      ]
    },
    {
      "cell_type": "code",
      "source": [
        "# Merge with books dataset\n",
        "combined = filtered_ratings.merge(books, on=\"isbn\").drop_duplicates()"
      ],
      "metadata": {
        "id": "qRynQnK8qJbQ"
      },
      "execution_count": null,
      "outputs": []
    },
    {
      "cell_type": "code",
      "source": [
        "# Build the Nearest Neighbors model\n",
        "model = NearestNeighbors(metric=\"cosine\", algorithm=\"brute\")\n",
        "book_features = combined.pivot(index=\"isbn\", columns=\"user_id\", values=\"rating\").fillna(0)\n",
        "model.fit(book_features)"
      ],
      "metadata": {
        "id": "ZvZdVKnDqMvH"
      },
      "execution_count": null,
      "outputs": []
    },
    {
      "cell_type": "code",
      "execution_count": null,
      "metadata": {
        "id": "f5ZUd-L1SQz7"
      },
      "outputs": [],
      "source": [
        "# Define the recommendation function\n",
        "def get_recommends(book_title):\n",
        "    book_index = combined[combined[\"title\"] == book_title].index[0]\n",
        "    distances, indices = model.kneighbors(book_features.iloc[book_index].values.reshape(1, -1), n_neighbors=6)\n",
        "\n",
        "    recommendations = [(combined.iloc[idx][\"title\"], dist) for idx, dist in zip(indices[0][1:], distances[0][1:])]\n",
        "    return [book_title, recommendations]"
      ]
    },
    {
      "cell_type": "code",
      "source": [
        "# Example usage:\n",
        "print(get_recommends(\"The Queen of the Damned (Vampire Chronicles (Paperback))\"))"
      ],
      "metadata": {
        "id": "GCzfT_DaqU3j"
      },
      "execution_count": null,
      "outputs": []
    },
    {
      "cell_type": "code",
      "execution_count": null,
      "metadata": {
        "id": "jd2SLCh8oxMh"
      },
      "outputs": [],
      "source": [
        "books = get_recommends(\"Where the Heart Is (Oprah's Book Club (Paperback))\")\n",
        "print(books)\n",
        "\n",
        "def test_book_recommendation():\n",
        "  test_pass = True\n",
        "  recommends = get_recommends(\"Where the Heart Is (Oprah's Book Club (Paperback))\")\n",
        "  if recommends[0] != \"Where the Heart Is (Oprah's Book Club (Paperback))\":\n",
        "    test_pass = False\n",
        "  recommended_books = [\"I'll Be Seeing You\", 'The Weight of Water', 'The Surgeon', 'I Know This Much Is True']\n",
        "  recommended_books_dist = [0.8, 0.77, 0.77, 0.77]\n",
        "  for i in range(2):\n",
        "    if recommends[1][i][0] not in recommended_books:\n",
        "      test_pass = False\n",
        "    if abs(recommends[1][i][1] - recommended_books_dist[i]) >= 0.05:\n",
        "      test_pass = False\n",
        "  if test_pass:\n",
        "    print(\"You passed the challenge! 🎉🎉🎉🎉🎉\")\n",
        "  else:\n",
        "    print(\"You haven't passed yet. Keep trying!\")\n",
        "\n",
        "test_book_recommendation()"
      ]
    }
  ],
  "metadata": {
    "colab": {
      "name": "fcc_book_recommendation_knn.ipynb",
      "provenance": []
    },
    "kernelspec": {
      "display_name": "Python 3",
      "language": "python",
      "name": "python3"
    },
    "language_info": {
      "codemirror_mode": {
        "name": "ipython",
        "version": 3
      },
      "file_extension": ".py",
      "mimetype": "text/x-python",
      "name": "python",
      "nbconvert_exporter": "python",
      "pygments_lexer": "ipython3",
      "version": "3.6.5"
    }
  },
  "nbformat": 4,
  "nbformat_minor": 0
}